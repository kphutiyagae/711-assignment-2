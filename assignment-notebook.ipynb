{
 "cells": [
  {
   "cell_type": "code",
   "id": "initial_id",
   "metadata": {
    "collapsed": true,
    "ExecuteTime": {
     "end_time": "2025-09-20T21:58:08.398769Z",
     "start_time": "2025-09-20T21:58:06.722696Z"
    }
   },
   "source": "import pandas as pd #Import pandas for operations",
   "outputs": [],
   "execution_count": 2
  },
  {
   "metadata": {
    "ExecuteTime": {
     "end_time": "2025-09-20T22:06:42.916989Z",
     "start_time": "2025-09-20T22:06:42.471432Z"
    }
   },
   "cell_type": "code",
   "source": [
    "dataframe = pd.read_csv('data/sdss_100k_galaxy_form_burst.csv', low_memory=False, header=1)\n",
    "\n",
    "print(\"Dataset loaded successfully!\")\n",
    "print(f\"Dataset shape: {dataframe.shape}\")\n",
    "print(f\"Columns: {list(dataframe.columns)}\")"
   ],
   "id": "e8d22af5cfcdf8af",
   "outputs": [
    {
     "name": "stdout",
     "output_type": "stream",
     "text": [
      "Dataset loaded successfully!\n",
      "Dataset shape: (100000, 43)\n",
      "Columns: ['objid', 'specobjid', 'ra', 'dec', 'u', 'g', 'r', 'i', 'z', 'modelFlux_u', 'modelFlux_g', 'modelFlux_r', 'modelFlux_i', 'modelFlux_z', 'petroRad_u', 'petroRad_g', 'petroRad_i', 'petroRad_r', 'petroRad_z', 'petroFlux_u', 'petroFlux_g', 'petroFlux_i', 'petroFlux_r', 'petroFlux_z', 'petroR50_u', 'petroR50_g', 'petroR50_i', 'petroR50_r', 'petroR50_z', 'psfMag_u', 'psfMag_r', 'psfMag_g', 'psfMag_i', 'psfMag_z', 'expAB_u', 'expAB_g', 'expAB_r', 'expAB_i', 'expAB_z', 'class', 'subclass', 'redshift', 'redshift_err']\n"
     ]
    }
   ],
   "execution_count": 6
  },
  {
   "metadata": {
    "ExecuteTime": {
     "end_time": "2025-09-20T22:07:20.837531Z",
     "start_time": "2025-09-20T22:07:20.824623Z"
    }
   },
   "cell_type": "code",
   "source": [
    "#1 Data pre-processing\n",
    "\n",
    "#1.1 remove unnecessary columns\n",
    "modified_dataframe = dataframe.drop(['objid', 'specobjid', 'class'], axis=1)\n",
    "\n",
    "print(f\"Modified Dataset shape: {modified_dataframe.shape}\")\n",
    "print(f\"Modified Dataset Columns: {list(modified_dataframe.columns)}\")\n",
    "\n",
    "#1.2 Split dataset into Test and Training data.\n",
    "training_data = dataframe.sample(frac=0.8)\n",
    "testing_data = dataframe.drop(training_data.index)\n"
   ],
   "id": "cf39c68afc7d1fe0",
   "outputs": [
    {
     "name": "stdout",
     "output_type": "stream",
     "text": [
      "Modified Dataset shape: (100000, 40)\n",
      "Modified Dataset Columns: ['ra', 'dec', 'u', 'g', 'r', 'i', 'z', 'modelFlux_u', 'modelFlux_g', 'modelFlux_r', 'modelFlux_i', 'modelFlux_z', 'petroRad_u', 'petroRad_g', 'petroRad_i', 'petroRad_r', 'petroRad_z', 'petroFlux_u', 'petroFlux_g', 'petroFlux_i', 'petroFlux_r', 'petroFlux_z', 'petroR50_u', 'petroR50_g', 'petroR50_i', 'petroR50_r', 'petroR50_z', 'psfMag_u', 'psfMag_r', 'psfMag_g', 'psfMag_i', 'psfMag_z', 'expAB_u', 'expAB_g', 'expAB_r', 'expAB_i', 'expAB_z', 'subclass', 'redshift', 'redshift_err']\n"
     ]
    },
    {
     "data": {
      "text/plain": [
       "ra              float64\n",
       "dec             float64\n",
       "u               float64\n",
       "g               float64\n",
       "r               float64\n",
       "i               float64\n",
       "z               float64\n",
       "modelFlux_u     float64\n",
       "modelFlux_g     float64\n",
       "modelFlux_r     float64\n",
       "modelFlux_i     float64\n",
       "modelFlux_z     float64\n",
       "petroRad_u      float64\n",
       "petroRad_g      float64\n",
       "petroRad_i      float64\n",
       "petroRad_r      float64\n",
       "petroRad_z      float64\n",
       "petroFlux_u     float64\n",
       "petroFlux_g     float64\n",
       "petroFlux_i     float64\n",
       "petroFlux_r     float64\n",
       "petroFlux_z     float64\n",
       "petroR50_u      float64\n",
       "petroR50_g      float64\n",
       "petroR50_i      float64\n",
       "petroR50_r      float64\n",
       "petroR50_z      float64\n",
       "psfMag_u        float64\n",
       "psfMag_r        float64\n",
       "psfMag_g        float64\n",
       "psfMag_i        float64\n",
       "psfMag_z        float64\n",
       "expAB_u         float64\n",
       "expAB_g         float64\n",
       "expAB_r         float64\n",
       "expAB_i         float64\n",
       "expAB_z         float64\n",
       "subclass         object\n",
       "redshift        float64\n",
       "redshift_err    float64\n",
       "dtype: object"
      ]
     },
     "execution_count": 9,
     "metadata": {},
     "output_type": "execute_result"
    }
   ],
   "execution_count": 9
  },
  {
   "metadata": {
    "ExecuteTime": {
     "end_time": "2025-09-18T19:38:29.820396Z",
     "start_time": "2025-09-18T19:38:29.808570Z"
    }
   },
   "cell_type": "code",
   "source": [
    "from scipy.stats import zscore\n",
    "\n",
    "# 1. Check for empty rows\n",
    "missing_values = dataframe.isnull().sum()\n",
    "print(f\"Missing values:\\n{missing_values}\")\n",
    "\n",
    "#2. Identify outliers\n"
   ],
   "id": "28b46100eb6db7c4",
   "outputs": [
    {
     "name": "stdout",
     "output_type": "stream",
     "text": [
      "Missing values:\n",
      "objid           0\n",
      "specobjid       0\n",
      "ra              0\n",
      "dec             0\n",
      "u               0\n",
      "g               0\n",
      "r               0\n",
      "i               0\n",
      "z               0\n",
      "modelFlux_u     0\n",
      "modelFlux_g     0\n",
      "modelFlux_r     0\n",
      "modelFlux_i     0\n",
      "modelFlux_z     0\n",
      "petroRad_u      0\n",
      "petroRad_g      0\n",
      "petroRad_i      0\n",
      "petroRad_r      0\n",
      "petroRad_z      0\n",
      "petroFlux_u     0\n",
      "petroFlux_g     0\n",
      "petroFlux_i     0\n",
      "petroFlux_r     0\n",
      "petroFlux_z     0\n",
      "petroR50_u      0\n",
      "petroR50_g      0\n",
      "petroR50_i      0\n",
      "petroR50_r      0\n",
      "petroR50_z      0\n",
      "psfMag_u        0\n",
      "psfMag_r        0\n",
      "psfMag_g        0\n",
      "psfMag_i        0\n",
      "psfMag_z        0\n",
      "expAB_u         0\n",
      "expAB_g         0\n",
      "expAB_r         0\n",
      "expAB_i         0\n",
      "expAB_z         0\n",
      "class           0\n",
      "subclass        0\n",
      "redshift        0\n",
      "redshift_err    0\n",
      "dtype: int64\n"
     ]
    }
   ],
   "execution_count": 26
  },
  {
   "metadata": {},
   "cell_type": "code",
   "outputs": [],
   "execution_count": null,
   "source": "",
   "id": "943943929ce0e60c"
  }
 ],
 "metadata": {
  "kernelspec": {
   "display_name": "Python 3",
   "language": "python",
   "name": "python3"
  },
  "language_info": {
   "codemirror_mode": {
    "name": "ipython",
    "version": 2
   },
   "file_extension": ".py",
   "mimetype": "text/x-python",
   "name": "python",
   "nbconvert_exporter": "python",
   "pygments_lexer": "ipython2",
   "version": "2.7.6"
  }
 },
 "nbformat": 4,
 "nbformat_minor": 5
}
